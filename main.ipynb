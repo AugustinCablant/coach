{
 "cells": [
  {
   "cell_type": "code",
   "execution_count": 1,
   "metadata": {},
   "outputs": [],
   "source": [
    "import pandas as pd \n",
    "import numpy as np \n",
    "import matplotlib.pyplot as plt \n",
    "import seaborn as sns \n",
    "import fonctions"
   ]
  },
  {
   "cell_type": "code",
   "execution_count": 2,
   "metadata": {},
   "outputs": [
    {
     "ename": "TypeError",
     "evalue": "object of type 'builtin_function_or_method' has no len()",
     "output_type": "error",
     "traceback": [
      "\u001b[1;31m---------------------------------------------------------------------------\u001b[0m",
      "\u001b[1;31mTypeError\u001b[0m                                 Traceback (most recent call last)",
      "Cell \u001b[1;32mIn[2], line 12\u001b[0m\n\u001b[0;32m      8\u001b[0m \u001b[38;5;66;03m# Création d'un DataFrame pour le mois\u001b[39;00m\n\u001b[0;32m      9\u001b[0m df_mois \u001b[38;5;241m=\u001b[39m coach\u001b[38;5;241m.\u001b[39mcreer_dataframe_mois()\n\u001b[0;32m     10\u001b[0m liste \u001b[38;5;241m=\u001b[39m [\n\u001b[0;32m     11\u001b[0m     [course\u001b[38;5;241m.\u001b[39mfooting(\u001b[38;5;241m40\u001b[39m, \u001b[38;5;124m'\u001b[39m\u001b[38;5;124maisance\u001b[39m\u001b[38;5;124m'\u001b[39m) \u001b[38;5;241m+\u001b[39m coach\u001b[38;5;241m.\u001b[39mmusculation(\u001b[38;5;124m'\u001b[39m\u001b[38;5;124mhypertrophie\u001b[39m\u001b[38;5;124m'\u001b[39m),\n\u001b[1;32m---> 12\u001b[0m      course\u001b[38;5;241m.\u001b[39mfooting(\u001b[38;5;241m30\u001b[39m, \u001b[38;5;124m'\u001b[39m\u001b[38;5;124maisance\u001b[39m\u001b[38;5;124m'\u001b[39m) \u001b[38;5;241m+\u001b[39m course\u001b[38;5;241m.\u001b[39mvma([\u001b[38;5;241m2\u001b[39m,\u001b[38;5;241m10\u001b[39m,\u001b[38;5;241m400\u001b[39m,\u001b[38;5;241m70\u001b[39m,\u001b[38;5;241m45\u001b[39m,\u001b[38;5;241m120\u001b[39m]),\n\u001b[0;32m     13\u001b[0m      course\u001b[38;5;241m.\u001b[39mfooting(\u001b[38;5;241m40\u001b[39m, \u001b[38;5;124m'\u001b[39m\u001b[38;5;124maisance\u001b[39m\u001b[38;5;124m'\u001b[39m) \u001b[38;5;241m+\u001b[39m course\u001b[38;5;241m.\u001b[39mfooting(\u001b[38;5;241m40\u001b[39m, \u001b[38;5;124m'\u001b[39m\u001b[38;5;124maisance\u001b[39m\u001b[38;5;124m'\u001b[39m), \n\u001b[0;32m     14\u001b[0m      course\u001b[38;5;241m.\u001b[39mfooting(\u001b[38;5;241m40\u001b[39m, \u001b[38;5;124m'\u001b[39m\u001b[38;5;124maisance\u001b[39m\u001b[38;5;124m'\u001b[39m) \u001b[38;5;241m+\u001b[39m coach\u001b[38;5;241m.\u001b[39mmusculation(\u001b[38;5;124m'\u001b[39m\u001b[38;5;124mhypertrophie\u001b[39m\u001b[38;5;124m'\u001b[39m),\n\u001b[0;32m     15\u001b[0m      course\u001b[38;5;241m.\u001b[39mfooting(\u001b[38;5;241m30\u001b[39m, \u001b[38;5;124m'\u001b[39m\u001b[38;5;124maisance\u001b[39m\u001b[38;5;124m'\u001b[39m) \u001b[38;5;241m+\u001b[39m course\u001b[38;5;241m.\u001b[39mvma([\u001b[38;5;241m2\u001b[39m,\u001b[38;5;241m10\u001b[39m,\u001b[38;5;241m400\u001b[39m,\u001b[38;5;241m70\u001b[39m,\u001b[38;5;241m45\u001b[39m,\u001b[38;5;241m120\u001b[39m]),\n\u001b[0;32m     16\u001b[0m      course\u001b[38;5;241m.\u001b[39mfooting(\u001b[38;5;241m40\u001b[39m, \u001b[38;5;124m'\u001b[39m\u001b[38;5;124maisance\u001b[39m\u001b[38;5;124m'\u001b[39m) \u001b[38;5;241m+\u001b[39m course\u001b[38;5;241m.\u001b[39mfooting(\u001b[38;5;241m40\u001b[39m, \u001b[38;5;124m'\u001b[39m\u001b[38;5;124maisance\u001b[39m\u001b[38;5;124m'\u001b[39m),\n\u001b[0;32m     17\u001b[0m      course\u001b[38;5;241m.\u001b[39mfooting(\u001b[38;5;241m40\u001b[39m, \u001b[38;5;124m'\u001b[39m\u001b[38;5;124maisance\u001b[39m\u001b[38;5;124m'\u001b[39m) \u001b[38;5;241m+\u001b[39m course\u001b[38;5;241m.\u001b[39mfooting(\u001b[38;5;241m40\u001b[39m, \u001b[38;5;124m'\u001b[39m\u001b[38;5;124maisance\u001b[39m\u001b[38;5;124m'\u001b[39m)],\n\u001b[0;32m     18\u001b[0m      [course\u001b[38;5;241m.\u001b[39mfooting(\u001b[38;5;241m40\u001b[39m, \u001b[38;5;124m'\u001b[39m\u001b[38;5;124maisance\u001b[39m\u001b[38;5;124m'\u001b[39m) \u001b[38;5;241m+\u001b[39m coach\u001b[38;5;241m.\u001b[39mmusculation(\u001b[38;5;124m'\u001b[39m\u001b[38;5;124mhypertrophie\u001b[39m\u001b[38;5;124m'\u001b[39m),\n\u001b[0;32m     19\u001b[0m      course\u001b[38;5;241m.\u001b[39mfooting(\u001b[38;5;241m30\u001b[39m, \u001b[38;5;124m'\u001b[39m\u001b[38;5;124maisance\u001b[39m\u001b[38;5;124m'\u001b[39m) \u001b[38;5;241m+\u001b[39m course\u001b[38;5;241m.\u001b[39mvma([\u001b[38;5;241m2\u001b[39m,\u001b[38;5;241m10\u001b[39m,\u001b[38;5;241m400\u001b[39m,\u001b[38;5;241m70\u001b[39m,\u001b[38;5;241m45\u001b[39m,\u001b[38;5;241m120\u001b[39m]),\n\u001b[0;32m     20\u001b[0m      course\u001b[38;5;241m.\u001b[39mfooting(\u001b[38;5;241m40\u001b[39m, \u001b[38;5;124m'\u001b[39m\u001b[38;5;124maisance\u001b[39m\u001b[38;5;124m'\u001b[39m) \u001b[38;5;241m+\u001b[39m course\u001b[38;5;241m.\u001b[39mfooting(\u001b[38;5;241m40\u001b[39m, \u001b[38;5;124m'\u001b[39m\u001b[38;5;124maisance\u001b[39m\u001b[38;5;124m'\u001b[39m), \n\u001b[0;32m     21\u001b[0m      course\u001b[38;5;241m.\u001b[39mfooting(\u001b[38;5;241m40\u001b[39m, \u001b[38;5;124m'\u001b[39m\u001b[38;5;124maisance\u001b[39m\u001b[38;5;124m'\u001b[39m) \u001b[38;5;241m+\u001b[39m coach\u001b[38;5;241m.\u001b[39mmusculation(\u001b[38;5;124m'\u001b[39m\u001b[38;5;124mhypertrophie\u001b[39m\u001b[38;5;124m'\u001b[39m),\n\u001b[0;32m     22\u001b[0m      course\u001b[38;5;241m.\u001b[39mfooting(\u001b[38;5;241m30\u001b[39m, \u001b[38;5;124m'\u001b[39m\u001b[38;5;124maisance\u001b[39m\u001b[38;5;124m'\u001b[39m) \u001b[38;5;241m+\u001b[39m course\u001b[38;5;241m.\u001b[39mvma([\u001b[38;5;241m2\u001b[39m,\u001b[38;5;241m10\u001b[39m,\u001b[38;5;241m400\u001b[39m,\u001b[38;5;241m70\u001b[39m,\u001b[38;5;241m45\u001b[39m,\u001b[38;5;241m120\u001b[39m]),\n\u001b[0;32m     23\u001b[0m      course\u001b[38;5;241m.\u001b[39mfooting(\u001b[38;5;241m40\u001b[39m, \u001b[38;5;124m'\u001b[39m\u001b[38;5;124maisance\u001b[39m\u001b[38;5;124m'\u001b[39m) \u001b[38;5;241m+\u001b[39m course\u001b[38;5;241m.\u001b[39mfooting(\u001b[38;5;241m40\u001b[39m, \u001b[38;5;124m'\u001b[39m\u001b[38;5;124maisance\u001b[39m\u001b[38;5;124m'\u001b[39m),\n\u001b[0;32m     24\u001b[0m      course\u001b[38;5;241m.\u001b[39mfooting(\u001b[38;5;241m40\u001b[39m, \u001b[38;5;124m'\u001b[39m\u001b[38;5;124maisance\u001b[39m\u001b[38;5;124m'\u001b[39m) \u001b[38;5;241m+\u001b[39m course\u001b[38;5;241m.\u001b[39mfooting(\u001b[38;5;241m40\u001b[39m, \u001b[38;5;124m'\u001b[39m\u001b[38;5;124maisance\u001b[39m\u001b[38;5;124m'\u001b[39m)],\n\u001b[0;32m     25\u001b[0m      [course\u001b[38;5;241m.\u001b[39mfooting(\u001b[38;5;241m40\u001b[39m, \u001b[38;5;124m'\u001b[39m\u001b[38;5;124maisance\u001b[39m\u001b[38;5;124m'\u001b[39m) \u001b[38;5;241m+\u001b[39m coach\u001b[38;5;241m.\u001b[39mmusculation(\u001b[38;5;124m'\u001b[39m\u001b[38;5;124mhypertrophie\u001b[39m\u001b[38;5;124m'\u001b[39m),\n\u001b[0;32m     26\u001b[0m      course\u001b[38;5;241m.\u001b[39mfooting(\u001b[38;5;241m30\u001b[39m, \u001b[38;5;124m'\u001b[39m\u001b[38;5;124maisance\u001b[39m\u001b[38;5;124m'\u001b[39m) \u001b[38;5;241m+\u001b[39m course\u001b[38;5;241m.\u001b[39mvma([\u001b[38;5;241m2\u001b[39m,\u001b[38;5;241m10\u001b[39m,\u001b[38;5;241m400\u001b[39m,\u001b[38;5;241m70\u001b[39m,\u001b[38;5;241m45\u001b[39m,\u001b[38;5;241m120\u001b[39m]),\n\u001b[0;32m     27\u001b[0m      course\u001b[38;5;241m.\u001b[39mfooting(\u001b[38;5;241m40\u001b[39m, \u001b[38;5;124m'\u001b[39m\u001b[38;5;124maisance\u001b[39m\u001b[38;5;124m'\u001b[39m) \u001b[38;5;241m+\u001b[39m course\u001b[38;5;241m.\u001b[39mfooting(\u001b[38;5;241m40\u001b[39m, \u001b[38;5;124m'\u001b[39m\u001b[38;5;124maisance\u001b[39m\u001b[38;5;124m'\u001b[39m), \n\u001b[0;32m     28\u001b[0m      course\u001b[38;5;241m.\u001b[39mfooting(\u001b[38;5;241m40\u001b[39m, \u001b[38;5;124m'\u001b[39m\u001b[38;5;124maisance\u001b[39m\u001b[38;5;124m'\u001b[39m) \u001b[38;5;241m+\u001b[39m coach\u001b[38;5;241m.\u001b[39mmusculation(\u001b[38;5;124m'\u001b[39m\u001b[38;5;124mhypertrophie\u001b[39m\u001b[38;5;124m'\u001b[39m),\n\u001b[0;32m     29\u001b[0m      course\u001b[38;5;241m.\u001b[39mfooting(\u001b[38;5;241m30\u001b[39m, \u001b[38;5;124m'\u001b[39m\u001b[38;5;124maisance\u001b[39m\u001b[38;5;124m'\u001b[39m) \u001b[38;5;241m+\u001b[39m course\u001b[38;5;241m.\u001b[39mvma([\u001b[38;5;241m2\u001b[39m,\u001b[38;5;241m10\u001b[39m,\u001b[38;5;241m400\u001b[39m,\u001b[38;5;241m70\u001b[39m,\u001b[38;5;241m45\u001b[39m,\u001b[38;5;241m120\u001b[39m]),\n\u001b[0;32m     30\u001b[0m      course\u001b[38;5;241m.\u001b[39mfooting(\u001b[38;5;241m40\u001b[39m, \u001b[38;5;124m'\u001b[39m\u001b[38;5;124maisance\u001b[39m\u001b[38;5;124m'\u001b[39m) \u001b[38;5;241m+\u001b[39m course\u001b[38;5;241m.\u001b[39mfooting(\u001b[38;5;241m40\u001b[39m, \u001b[38;5;124m'\u001b[39m\u001b[38;5;124maisance\u001b[39m\u001b[38;5;124m'\u001b[39m),\n\u001b[0;32m     31\u001b[0m      course\u001b[38;5;241m.\u001b[39mfooting(\u001b[38;5;241m40\u001b[39m, \u001b[38;5;124m'\u001b[39m\u001b[38;5;124maisance\u001b[39m\u001b[38;5;124m'\u001b[39m) \u001b[38;5;241m+\u001b[39m course\u001b[38;5;241m.\u001b[39mfooting(\u001b[38;5;241m40\u001b[39m, \u001b[38;5;124m'\u001b[39m\u001b[38;5;124maisance\u001b[39m\u001b[38;5;124m'\u001b[39m)],\n\u001b[0;32m     32\u001b[0m      [course\u001b[38;5;241m.\u001b[39mfooting(\u001b[38;5;241m40\u001b[39m, \u001b[38;5;124m'\u001b[39m\u001b[38;5;124maisance\u001b[39m\u001b[38;5;124m'\u001b[39m) \u001b[38;5;241m+\u001b[39m coach\u001b[38;5;241m.\u001b[39mmusculation(\u001b[38;5;124m'\u001b[39m\u001b[38;5;124mhypertrophie\u001b[39m\u001b[38;5;124m'\u001b[39m),\n\u001b[0;32m     33\u001b[0m      course\u001b[38;5;241m.\u001b[39mfooting(\u001b[38;5;241m30\u001b[39m, \u001b[38;5;124m'\u001b[39m\u001b[38;5;124maisance\u001b[39m\u001b[38;5;124m'\u001b[39m) \u001b[38;5;241m+\u001b[39m course\u001b[38;5;241m.\u001b[39mvma([\u001b[38;5;241m2\u001b[39m,\u001b[38;5;241m10\u001b[39m,\u001b[38;5;241m400\u001b[39m,\u001b[38;5;241m70\u001b[39m,\u001b[38;5;241m45\u001b[39m,\u001b[38;5;241m120\u001b[39m]),\n\u001b[0;32m     34\u001b[0m      course\u001b[38;5;241m.\u001b[39mfooting(\u001b[38;5;241m40\u001b[39m, \u001b[38;5;124m'\u001b[39m\u001b[38;5;124maisance\u001b[39m\u001b[38;5;124m'\u001b[39m) \u001b[38;5;241m+\u001b[39m course\u001b[38;5;241m.\u001b[39mfooting(\u001b[38;5;241m40\u001b[39m, \u001b[38;5;124m'\u001b[39m\u001b[38;5;124maisance\u001b[39m\u001b[38;5;124m'\u001b[39m), \n\u001b[0;32m     35\u001b[0m      course\u001b[38;5;241m.\u001b[39mfooting(\u001b[38;5;241m40\u001b[39m, \u001b[38;5;124m'\u001b[39m\u001b[38;5;124maisance\u001b[39m\u001b[38;5;124m'\u001b[39m) \u001b[38;5;241m+\u001b[39m coach\u001b[38;5;241m.\u001b[39mmusculation(\u001b[38;5;124m'\u001b[39m\u001b[38;5;124mhypertrophie\u001b[39m\u001b[38;5;124m'\u001b[39m),\n\u001b[0;32m     36\u001b[0m      course\u001b[38;5;241m.\u001b[39mfooting(\u001b[38;5;241m30\u001b[39m, \u001b[38;5;124m'\u001b[39m\u001b[38;5;124maisance\u001b[39m\u001b[38;5;124m'\u001b[39m) \u001b[38;5;241m+\u001b[39m course\u001b[38;5;241m.\u001b[39mvma([\u001b[38;5;241m2\u001b[39m,\u001b[38;5;241m10\u001b[39m,\u001b[38;5;241m400\u001b[39m,\u001b[38;5;241m70\u001b[39m,\u001b[38;5;241m45\u001b[39m,\u001b[38;5;241m120\u001b[39m]),\n\u001b[0;32m     37\u001b[0m      course\u001b[38;5;241m.\u001b[39mfooting(\u001b[38;5;241m40\u001b[39m, \u001b[38;5;124m'\u001b[39m\u001b[38;5;124maisance\u001b[39m\u001b[38;5;124m'\u001b[39m) \u001b[38;5;241m+\u001b[39m course\u001b[38;5;241m.\u001b[39mfooting(\u001b[38;5;241m40\u001b[39m, \u001b[38;5;124m'\u001b[39m\u001b[38;5;124maisance\u001b[39m\u001b[38;5;124m'\u001b[39m),\n\u001b[0;32m     38\u001b[0m      course\u001b[38;5;241m.\u001b[39mfooting(\u001b[38;5;241m40\u001b[39m, \u001b[38;5;124m'\u001b[39m\u001b[38;5;124maisance\u001b[39m\u001b[38;5;124m'\u001b[39m) \u001b[38;5;241m+\u001b[39m course\u001b[38;5;241m.\u001b[39mfooting(\u001b[38;5;241m40\u001b[39m, \u001b[38;5;124m'\u001b[39m\u001b[38;5;124maisance\u001b[39m\u001b[38;5;124m'\u001b[39m)],\n\u001b[0;32m     39\u001b[0m     ]\n\u001b[0;32m     40\u001b[0m programme \u001b[38;5;241m=\u001b[39m coach\u001b[38;5;241m.\u001b[39mcreer_mois(liste)\n\u001b[0;32m     41\u001b[0m plan \u001b[38;5;241m=\u001b[39m coach\u001b[38;5;241m.\u001b[39mremplir_dataframe(programme)\n",
      "File \u001b[1;32mc:\\Users\\d43284\\Documents\\GitHub\\coach\\fonctions.py:156\u001b[0m, in \u001b[0;36mCoaching.course_a_pied.<locals>.Course.vma\u001b[1;34m(self, liste)\u001b[0m\n\u001b[0;32m    146\u001b[0m \u001b[38;5;250m\u001b[39m\u001b[38;5;124;03m\"\"\"\u001b[39;00m\n\u001b[0;32m    147\u001b[0m \u001b[38;5;124;03mGénère une séance de VMA en fonction du nombre de répétitions et des intervalles.\u001b[39;00m\n\u001b[0;32m    148\u001b[0m \n\u001b[1;32m   (...)\u001b[0m\n\u001b[0;32m    153\u001b[0m \u001b[38;5;124;03m2 x (4 x 400 en 65 R45) R120 + 2 x (4 x 300 en 47 R30) R60\u001b[39;00m\n\u001b[0;32m    154\u001b[0m \u001b[38;5;124;03m\"\"\"\u001b[39;00m\n\u001b[0;32m    155\u001b[0m seance \u001b[38;5;241m=\u001b[39m \u001b[38;5;124m\"\u001b[39m\u001b[38;5;124m\"\u001b[39m\n\u001b[1;32m--> 156\u001b[0m \u001b[38;5;28;01mif\u001b[39;00m \u001b[38;5;28mlen\u001b[39m(np\u001b[38;5;241m.\u001b[39marray(liste)\u001b[38;5;241m.\u001b[39mflatten) \u001b[38;5;241m!=\u001b[39m \u001b[38;5;28mlen\u001b[39m(liste):\n\u001b[0;32m    157\u001b[0m     \u001b[38;5;28;01mfor\u001b[39;00m sub \u001b[38;5;129;01min\u001b[39;00m liste : \n\u001b[0;32m    158\u001b[0m         [nbb, nbr, d, t, rb, rr] \u001b[38;5;241m=\u001b[39m sub\n",
      "\u001b[1;31mTypeError\u001b[0m: object of type 'builtin_function_or_method' has no len()"
     ]
    }
   ],
   "source": [
    "\"\"\" Exemple d'utilisation de la classe coach \"\"\"\n",
    "\n",
    "# Initialisation de la classe\n",
    "coach = fonctions.Coaching()\n",
    "course = coach.course_a_pied()  # Utilisation des fonctions de course à pied\n",
    "\n",
    "\n",
    "# Création d'un DataFrame pour le mois\n",
    "df_mois = coach.creer_dataframe_mois()\n",
    "liste = [\n",
    "    [course.footing(40, 'aisance') + coach.musculation('hypertrophie'),\n",
    "     course.footing(30, 'aisance') + course.vma([2,10,400,70,45,120]),\n",
    "     course.footing(40, 'aisance') + course.footing(40, 'aisance'), \n",
    "     course.footing(40, 'aisance') + coach.musculation('hypertrophie'),\n",
    "     course.footing(30, 'aisance') + course.vma([2,10,400,70,45,120]),\n",
    "     course.footing(40, 'aisance') + course.footing(40, 'aisance'),\n",
    "     course.footing(40, 'aisance') + course.footing(40, 'aisance')],\n",
    "     [course.footing(40, 'aisance') + coach.musculation('hypertrophie'),\n",
    "     course.footing(30, 'aisance') + course.vma([2,10,400,70,45,120]),\n",
    "     course.footing(40, 'aisance') + course.footing(40, 'aisance'), \n",
    "     course.footing(40, 'aisance') + coach.musculation('hypertrophie'),\n",
    "     course.footing(30, 'aisance') + course.vma([2,10,400,70,45,120]),\n",
    "     course.footing(40, 'aisance') + course.footing(40, 'aisance'),\n",
    "     course.footing(40, 'aisance') + course.footing(40, 'aisance')],\n",
    "     [course.footing(40, 'aisance') + coach.musculation('hypertrophie'),\n",
    "     course.footing(30, 'aisance') + course.vma([2,10,400,70,45,120]),\n",
    "     course.footing(40, 'aisance') + course.footing(40, 'aisance'), \n",
    "     course.footing(40, 'aisance') + coach.musculation('hypertrophie'),\n",
    "     course.footing(30, 'aisance') + course.vma([2,10,400,70,45,120]),\n",
    "     course.footing(40, 'aisance') + course.footing(40, 'aisance'),\n",
    "     course.footing(40, 'aisance') + course.footing(40, 'aisance')],\n",
    "     [course.footing(40, 'aisance') + coach.musculation('hypertrophie'),\n",
    "     course.footing(30, 'aisance') + course.vma([2,10,400,70,45,120]),\n",
    "     course.footing(40, 'aisance') + course.footing(40, 'aisance'), \n",
    "     course.footing(40, 'aisance') + coach.musculation('hypertrophie'),\n",
    "     course.footing(30, 'aisance') + course.vma([2,10,400,70,45,120]),\n",
    "     course.footing(40, 'aisance') + course.footing(40, 'aisance'),\n",
    "     course.footing(40, 'aisance') + course.footing(40, 'aisance')],\n",
    "    ]\n",
    "programme = coach.creer_mois(liste)\n",
    "plan = coach.remplir_dataframe(programme)\n",
    "\n",
    "plan"
   ]
  },
  {
   "cell_type": "code",
   "execution_count": 10,
   "metadata": {},
   "outputs": [
    {
     "data": {
      "text/plain": [
       "{'Lundi': [],\n",
       " 'Mardi': [],\n",
       " 'Mercredi': [],\n",
       " 'Jeudi': [],\n",
       " 'Vendredi': [],\n",
       " 'Samedi': [],\n",
       " 'Dimanche': []}"
      ]
     },
     "execution_count": 10,
     "metadata": {},
     "output_type": "execute_result"
    }
   ],
   "source": [
    "liste = [[], [], [], []]\n",
    "programme = coach.creer_mois()\n",
    "            \n",
    "programme"
   ]
  },
  {
   "cell_type": "code",
   "execution_count": 3,
   "metadata": {},
   "outputs": [
    {
     "ename": "TypeError",
     "evalue": "object of type 'builtin_function_or_method' has no len()",
     "output_type": "error",
     "traceback": [
      "\u001b[1;31m---------------------------------------------------------------------------\u001b[0m",
      "\u001b[1;31mTypeError\u001b[0m                                 Traceback (most recent call last)",
      "Cell \u001b[1;32mIn[3], line 1\u001b[0m\n\u001b[1;32m----> 1\u001b[0m course\u001b[38;5;241m.\u001b[39mvma([\u001b[38;5;241m2\u001b[39m,\u001b[38;5;241m10\u001b[39m,\u001b[38;5;241m400\u001b[39m,\u001b[38;5;241m70\u001b[39m,\u001b[38;5;241m45\u001b[39m,\u001b[38;5;241m120\u001b[39m])\n",
      "File \u001b[1;32mc:\\Users\\d43284\\Documents\\GitHub\\coach\\fonctions.py:156\u001b[0m, in \u001b[0;36mCoaching.course_a_pied.<locals>.Course.vma\u001b[1;34m(self, liste)\u001b[0m\n\u001b[0;32m    146\u001b[0m \u001b[38;5;250m\u001b[39m\u001b[38;5;124;03m\"\"\"\u001b[39;00m\n\u001b[0;32m    147\u001b[0m \u001b[38;5;124;03mGénère une séance de VMA en fonction du nombre de répétitions et des intervalles.\u001b[39;00m\n\u001b[0;32m    148\u001b[0m \n\u001b[1;32m   (...)\u001b[0m\n\u001b[0;32m    153\u001b[0m \u001b[38;5;124;03m2 x (4 x 400 en 65 R45) R120 + 2 x (4 x 300 en 47 R30) R60\u001b[39;00m\n\u001b[0;32m    154\u001b[0m \u001b[38;5;124;03m\"\"\"\u001b[39;00m\n\u001b[0;32m    155\u001b[0m seance \u001b[38;5;241m=\u001b[39m \u001b[38;5;124m\"\u001b[39m\u001b[38;5;124m\"\u001b[39m\n\u001b[1;32m--> 156\u001b[0m \u001b[38;5;28;01mif\u001b[39;00m \u001b[38;5;28mlen\u001b[39m(np\u001b[38;5;241m.\u001b[39marray(liste)\u001b[38;5;241m.\u001b[39mflatten) \u001b[38;5;241m!=\u001b[39m \u001b[38;5;28mlen\u001b[39m(liste):\n\u001b[0;32m    157\u001b[0m     \u001b[38;5;28;01mfor\u001b[39;00m sub \u001b[38;5;129;01min\u001b[39;00m liste : \n\u001b[0;32m    158\u001b[0m         [nbb, nbr, d, t, rb, rr] \u001b[38;5;241m=\u001b[39m sub\n",
      "\u001b[1;31mTypeError\u001b[0m: object of type 'builtin_function_or_method' has no len()"
     ]
    }
   ],
   "source": [
    "course.vma([2,10,400,70,45,120])"
   ]
  },
  {
   "cell_type": "code",
   "execution_count": null,
   "metadata": {},
   "outputs": [],
   "source": []
  }
 ],
 "metadata": {
  "kernelspec": {
   "display_name": "base",
   "language": "python",
   "name": "python3"
  },
  "language_info": {
   "codemirror_mode": {
    "name": "ipython",
    "version": 3
   },
   "file_extension": ".py",
   "mimetype": "text/x-python",
   "name": "python",
   "nbconvert_exporter": "python",
   "pygments_lexer": "ipython3",
   "version": "3.11.7"
  }
 },
 "nbformat": 4,
 "nbformat_minor": 2
}
