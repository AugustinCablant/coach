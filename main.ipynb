{
 "cells": [
  {
   "cell_type": "code",
   "execution_count": 6,
   "metadata": {},
   "outputs": [],
   "source": [
    "import pandas as pd \n",
    "import numpy as np \n",
    "import matplotlib.pyplot as plt \n",
    "import seaborn as sns \n",
    "import fonctions"
   ]
  },
  {
   "cell_type": "code",
   "execution_count": null,
   "metadata": {},
   "outputs": [],
   "source": [
    "\"\"\" Exemple d'utilisation de la classe coach \"\"\"\n",
    "\n",
    "# Initialisation de la classe\n",
    "coach = fonctions.Coaching()\n",
    "course = coach.course_a_pied()  # Utilisation des fonctions de course à pied\n",
    "\n",
    "\n",
    "# Création d'un DataFrame pour le mois\n",
    "df_mois = coach.creer_dataframe_mois()\n",
    "\n",
    "programme = [{'Lundi': [],\n",
    "            'Mardi': [],\n",
    "            'Mercredi': [],\n",
    "            'Jeudi': [],\n",
    "            'Vendredi': [],\n",
    "            'Samedi': [],\n",
    "            'Dimanche': []}]\n",
    "\n",
    "seance_musculation = coach.musculation('hypertrophie')  # Génération d'une séance de musculation\n",
    "\n",
    "# Séance de footing\n",
    "seance_footing = course.footing(30, 'aisance')\n",
    "print(\"\\nSéance de Footing:\\n\", seance_footing)\n",
    "\n",
    "# Séance de VMA\n",
    "seance_vma = course.vma(5, 400)\n",
    "print(\"\\nSéance de VMA:\\n\", seance_vma)\n",
    "\n",
    "# Séance au seuil (détails à renseigner)\n",
    "seance_seuil = course.seuil()\n",
    "print(\"\\nSéance au Seuil:\\n\", seance_seuil)\n",
    "\n",
    "# Séance de sortie longue (détails à renseigner)\n",
    "seance_sortie_longue = course.sortie_longue()\n",
    "print(\"\\nSéance de Sortie Longue:\\n\", seance_sortie_longue)"
   ]
  },
  {
   "cell_type": "code",
   "execution_count": 10,
   "metadata": {},
   "outputs": [
    {
     "data": {
      "text/plain": [
       "{'Lundi': [],\n",
       " 'Mardi': [],\n",
       " 'Mercredi': [],\n",
       " 'Jeudi': [],\n",
       " 'Vendredi': [],\n",
       " 'Samedi': [],\n",
       " 'Dimanche': []}"
      ]
     },
     "execution_count": 10,
     "metadata": {},
     "output_type": "execute_result"
    }
   ],
   "source": [
    "liste = [[], [], [], []]\n",
    "programme = coach.creer_mois()\n",
    "            \n",
    "programme"
   ]
  },
  {
   "cell_type": "code",
   "execution_count": null,
   "metadata": {},
   "outputs": [],
   "source": []
  }
 ],
 "metadata": {
  "kernelspec": {
   "display_name": "base",
   "language": "python",
   "name": "python3"
  },
  "language_info": {
   "codemirror_mode": {
    "name": "ipython",
    "version": 3
   },
   "file_extension": ".py",
   "mimetype": "text/x-python",
   "name": "python",
   "nbconvert_exporter": "python",
   "pygments_lexer": "ipython3",
   "version": "3.11.7"
  }
 },
 "nbformat": 4,
 "nbformat_minor": 2
}
